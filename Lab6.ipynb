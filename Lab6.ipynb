{
 "cells": [
  {
   "cell_type": "code",
   "execution_count": 108,
   "metadata": {},
   "outputs": [
    {
     "data": {
      "image/png": "[encoded data removed]",
      "text/plain": [
       "<Figure size 432x288 with 1 Axes>"
      ]
     },
     "metadata": {
      "needs_background": "light"
     },
     "output_type": "display_data"
    }
   ],
   "source": [
    "import numpy as np  #resmimizi gray level daha sonra bw aktarıcaz   t için e - 6   t için i - 2\n",
    "import matplotlib.pyplot as plt\n",
    "im1=plt.imread(\"3.png\")\n",
    "plt.imshow(im1)\n",
    "plt.show()"
   ]
  },
  {
   "cell_type": "code",
   "execution_count": 109,
   "metadata": {},
   "outputs": [],
   "source": [
    "def get_distance(v,w=[1/3,1/3,1/3]):   #w ağırlık değeri\n",
    "    a,b,c=v[0],v[1],v[2]\n",
    "    w1,w2,w3=w[0],w[1],w[2]\n",
    "    #d=((a*w1)**2+(b*w2)**2+(c*w3)**2)**.5 #sqrt işlemi var\n",
    "    d=((a**2)*w1+(b**2)*w2+(c**2)*w3)**.5\n",
    "    return d\n",
    "\n",
    "\n",
    "def convert_rgb_to_gray_level(im_1):\n",
    "    m=im_1.shape[0]\n",
    "    n=im_1.shape[1]\n",
    "    im_2=np.zeros((m,n))\n",
    "    for i in range(m):\n",
    "        for j in range(n):\n",
    "            im_2[i,j]=get_distance(im_1[i,j,:])\n",
    "    return im_2\n",
    "\n",
    "def convert_rgb_to_BW(image_gray_level):\n",
    "    m=image_gray_level.shape[0]\n",
    "    n=image_gray_level.shape[1]\n",
    "    im_bw=np.zeros((m,n))\n",
    "    for i in range(m):\n",
    "        for j in range(n):\n",
    "            if image_gray_level[i,j]==0:\n",
    "                im_bw[i,j]=0\n",
    "            else:\n",
    "                im_bw[i,j]=1\n",
    "    return im_bw"
   ]
  },
  {
   "cell_type": "code",
   "execution_count": 110,
   "metadata": {},
   "outputs": [
    {
     "data": {
      "image/png": "[encoded data removed]",
      "text/plain": [
       "<Figure size 432x288 with 1 Axes>"
      ]
     },
     "metadata": {
      "needs_background": "light"
     },
     "output_type": "display_data"
    },
    {
     "data": {
      "image/png": "[encoded data removed]",
      "text/plain": [
       "<Figure size 432x288 with 1 Axes>"
      ]
     },
     "metadata": {
      "needs_background": "light"
     },
     "output_type": "display_data"
    }
   ],
   "source": [
    "im2=convert_rgb_to_gray_level(im1)\n",
    "plt.imshow(im2,cmap='gray')\n",
    "plt.show()\n",
    "\n",
    "im3=convert_rgb_to_BW(im2)\n",
    "plt.imshow(im3,cmap='gray')\n",
    "plt.show()"
   ]
  },
  {
   "cell_type": "code",
   "execution_count": 111,
   "metadata": {},
   "outputs": [],
   "source": [
    "def pixel_compenent(resim):     #evde pixel compenenti ayrı fonksiyon yap ayır daha güzel olur\n",
    "    m=resim.shape[0]   # siyah 0  beyaz 1 \n",
    "    n=resim.shape[1]\n",
    "    external=0\n",
    "    internal=0\n",
    "    for i in range (1,m-1):\n",
    "        for j in range(1,n-1):\n",
    "            poi=resim[i:i+2,j:j+2]\n",
    "            siyah=0\n",
    "            beyaz=0\n",
    "            for k in range(2):\n",
    "                for l in range(2):\n",
    "                    if poi[k][l]==1:\n",
    "                        beyaz=beyaz+1\n",
    "                    else:\n",
    "                        siyah=siyah+1\n",
    "            if(siyah>beyaz and beyaz>0):\n",
    "                internal=internal+1\n",
    "            elif(beyaz>siyah and siyah>0):\n",
    "                external=external+1\n",
    "                \n",
    "    print(\"dış kenar \",external)\n",
    "    print(\"iç kenar \",internal)\n",
    "    print(\"Nesne sayisi\",(external-internal)/4)\n",
    "    "
   ]
  },
  {
   "cell_type": "code",
   "execution_count": 112,
   "metadata": {},
   "outputs": [
    {
     "name": "stdout",
     "output_type": "stream",
     "text": [
      "dış kenar  20\n",
      "iç kenar  4\n",
      "Nesne sayisi 4.0\n"
     ]
    }
   ],
   "source": [
    "pixel_compenent(im3)"
   ]
  },
  {
   "cell_type": "code",
   "execution_count": 106,
   "metadata": {},
   "outputs": [],
   "source": [
    "#Derste hocanın yaptığı mantık ile yapılma şekli \n",
    "#s=0\n",
    "#for i in range(4):\n",
    "#    if(my_block[i]==1):\n",
    "#        s=s+2**i\n",
    "#if s==8 or s==4 or s==2 or s==1:\n",
    "#    return True      #External\n",
    "#else:\n",
    "#    return False     #Internal"
   ]
  },
  {
   "cell_type": "code",
   "execution_count": null,
   "metadata": {},
   "outputs": [],
   "source": []
  },
  {
   "cell_type": "code",
   "execution_count": null,
   "metadata": {},
   "outputs": [],
   "source": []
  }
 ],
 "metadata": {
  "kernelspec": {
   "display_name": "Python 3",
   "language": "python",
   "name": "python3"
  },
  "language_info": {
   "codemirror_mode": {
    "name": "ipython",
    "version": 3
   },
   "file_extension": ".py",
   "mimetype": "text/x-python",
   "name": "python",
   "nbconvert_exporter": "python",
   "pygments_lexer": "ipython3",
   "version": "3.7.0"
  }
 },
 "nbformat": 4,
 "nbformat_minor": 2
}
