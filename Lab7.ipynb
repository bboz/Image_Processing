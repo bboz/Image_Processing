{
 "cells": [
  {
   "cell_type": "code",
   "execution_count": 87,
   "metadata": {
    "collapsed": true
   },
   "outputs": [],
   "source": [
    "#a-) 28x28 boyutlarında içeriği 0 ve 1 olan bir matris üretiniz.\n",
    "# --- my_create_m(): return result=[]28x28  içeriği 0 1 matris\n",
    "#b-) A şıkkında üretilen matrisle 1 leri içeren MBR dikdörtgeni üreten fonksiyonu yazınız\n",
    "# --- def my_MBR (matrix_block) 1 leri içeren en küçük dikdörtgeni değeri elde edicek\n",
    "#c-) Kendisine aktarılan iki vektörün benzerliğini return eden fonksiyonu yazınız.\n",
    "# --- def ... (a,b)  skaler çarpımı göndercek geri\n",
    "#d-) A şıkkında yazdığınız fonksiyonu kullanarak 100 farklı matris elde edip birinci \n",
    "#üretilen ile diğerlerini karşılaştırıp(distance) yakınlığını ve benzerliğini listeleyiniz\n",
    "# --- 100 tane A daki fonk çağır ordaki 100 tanesini 1. ile karşılaştır\n",
    "# haftaya mnist data\n",
    "\n",
    "import numpy as np\n",
    "import matplotlib.pyplot as plt\n",
    "import random as random\n",
    "\n",
    "#soru a\n",
    "def my_create_m():\n",
    "    return np.random.randint(0,2,(28,28))\n",
    "\n",
    "#soru b\n",
    "def MBR_create_28_by_28_with_0_1(matris_a):\n",
    "    m=matris_a.shape[0]\n",
    "    n=matris_a.shape[1]\n",
    "    x_min=m\n",
    "    x_max=0    #başlangıç değerleri olası en olumsuz durum\n",
    "    y_min=n\n",
    "    y_max=0\n",
    "    for i in range(m):\n",
    "        for j in range(n):\n",
    "            if (matris_a[i,j]==1 and x_min>i):    # resim/matris üzerinden \n",
    "                x_min=i                          # x_min, .... güncelleniyor\n",
    "            if (matris_a[i,j]==1 and x_max<i):\n",
    "                x_max=i\n",
    "            if (matris_a[i,j]==1 and y_min>j):\n",
    "                y_min=j\n",
    "            if (matris_a[i,j]==1 and y_max<j):\n",
    "                y_max=j\n",
    "    return (x_min,x_max,y_min,y_max)\n",
    "\n",
    "#soru c\n",
    "def get_similarity(character_a,character_b):\n",
    "    m=character_a.shape[0]\n",
    "    n=character_a.shape[1]\n",
    "    my_similarity=0\n",
    "    for i in range(m):\n",
    "        for j in range(n):\n",
    "            my_similarity=my_similarity+character_a[i,j]*character_b[i,j] #pixelleri çarpım olarak değilde direk aynı mı farklımı diye kontrol edebilirsin\n",
    "    return my_similarity\n",
    "\n",
    "#soru d\n",
    "def get_similarity_for_100_characters(kac_karakter=100):\n",
    "    characters=[]\n",
    "    for i in range(kac_karakter):\n",
    "        new_char=my_create_m()\n",
    "        characters.append(new_char)\n",
    "    for i in range(kac_karakter):\n",
    "        benzerlik=get_similarity(characters[0],characters[i])\n",
    "        print(\"0 -- \"+str(i)+\"  \",benzerlik)"
   ]
  },
  {
   "cell_type": "code",
   "execution_count": 88,
   "metadata": {
    "collapsed": false
   },
   "outputs": [
    {
     "name": "stdout",
     "output_type": "stream",
     "text": [
      "[[1 0 1 0 0 0 0 1 1 1 0 0 1 1 1 0 1 1 1 1 1 0 0 1 0 0 1 1]\n",
      " [0 1 0 0 1 1 0 1 1 1 1 0 0 0 0 1 1 1 0 0 0 0 1 0 1 1 1 0]\n",
      " [0 1 1 0 0 0 1 0 1 1 1 1 0 1 1 0 1 1 0 0 1 0 0 0 1 1 0 1]\n",
      " [1 0 1 0 1 0 0 1 0 0 1 1 0 0 1 0 0 0 0 1 0 1 1 0 0 1 0 0]\n",
      " [1 1 0 0 1 1 1 1 1 0 1 1 0 1 1 1 1 1 0 0 1 0 0 1 0 1 1 1]\n",
      " [0 0 1 0 0 0 1 1 0 1 1 0 0 1 1 1 0 0 0 1 1 0 1 0 1 1 1 1]\n",
      " [0 1 1 1 0 1 1 0 0 1 1 0 1 1 1 0 1 1 1 1 0 0 0 1 1 1 0 1]\n",
      " [0 0 0 0 0 0 0 0 0 1 0 1 0 1 1 1 1 1 0 0 0 0 0 0 1 1 0 0]\n",
      " [1 0 1 0 0 1 0 1 1 0 0 1 0 0 1 0 0 1 0 1 1 0 0 1 1 1 1 1]\n",
      " [1 1 0 0 0 1 0 1 1 0 0 0 0 0 0 1 1 0 1 0 0 0 0 0 1 1 1 1]\n",
      " [1 0 0 1 0 0 0 0 0 0 0 1 0 0 1 1 1 1 0 0 1 1 0 0 0 1 1 0]\n",
      " [0 1 0 1 0 0 0 1 1 0 0 1 0 0 0 0 0 1 1 0 0 1 0 0 0 1 1 1]\n",
      " [1 0 0 1 1 1 0 1 1 0 0 1 0 1 0 1 0 1 1 0 0 1 0 1 0 1 1 0]\n",
      " [0 0 0 0 0 0 0 0 0 0 0 1 1 0 0 1 0 0 0 1 0 1 0 1 1 0 1 0]\n",
      " [1 1 1 1 0 1 0 0 0 1 1 1 1 1 0 1 0 1 1 1 0 0 1 1 0 1 0 1]\n",
      " [1 0 0 0 0 1 0 0 1 0 0 0 1 0 0 0 1 0 0 1 1 0 1 1 0 1 0 1]\n",
      " [1 1 0 0 1 1 1 0 1 1 1 1 1 1 0 1 1 1 1 1 1 1 0 1 0 0 1 1]\n",
      " [0 0 0 1 0 1 1 1 0 0 0 0 0 0 1 0 0 0 0 0 1 1 1 1 1 1 1 1]\n",
      " [0 0 0 0 0 0 0 0 0 0 1 0 0 1 1 0 0 0 0 0 0 0 1 0 1 1 1 1]\n",
      " [0 0 0 0 0 0 1 0 0 0 0 1 0 1 0 1 1 0 1 1 0 1 0 0 1 0 1 1]\n",
      " [1 1 0 0 1 1 0 0 0 0 1 1 1 0 1 1 1 0 0 0 1 0 0 1 1 0 1 0]\n",
      " [0 1 0 1 0 1 1 0 1 1 1 0 1 0 0 1 0 1 1 1 0 0 0 0 0 0 1 1]\n",
      " [0 0 1 1 0 0 1 0 1 0 0 1 0 1 0 0 0 1 0 1 0 1 1 1 1 1 1 0]\n",
      " [0 1 1 0 0 1 0 0 1 1 1 1 1 1 1 0 1 0 0 0 0 0 1 1 0 1 1 0]\n",
      " [1 0 0 0 1 1 0 1 1 0 1 0 0 1 0 0 1 0 0 1 0 0 1 1 0 0 0 1]\n",
      " [1 0 0 0 0 0 0 1 0 0 1 0 1 0 1 0 1 0 0 1 1 0 0 0 0 0 1 1]\n",
      " [0 0 1 1 1 0 1 1 0 0 0 0 1 1 0 1 1 1 1 1 0 0 0 1 1 0 0 0]\n",
      " [1 1 1 0 1 1 1 1 0 0 1 0 1 1 0 0 0 0 0 1 1 0 0 1 1 0 0 0]]\n",
      "(0, 27, 0, 27)\n",
      "203\n"
     ]
    }
   ],
   "source": [
    "print(my_create_m())\n",
    "print(MBR_create_28_by_28_with_0_1(my_create_m()))\n",
    "c_1=my_create_m()\n",
    "c_2=my_create_m()\n",
    "print(get_similarity(c_1,c_2))"
   ]
  },
  {
   "cell_type": "code",
   "execution_count": 89,
   "metadata": {
    "collapsed": false,
    "scrolled": true
   },
   "outputs": [
    {
     "name": "stdout",
     "output_type": "stream",
     "text": [
      "En Yüksek Benzerlik :  214\n"
     ]
    },
    {
     "data": {
      "image/png": "[encoded data removed]",
      "text/plain": [
       "<matplotlib.figure.Figure at 0x5dd27d0>"
      ]
     },
     "metadata": {},
     "output_type": "display_data"
    },
    {
     "data": {
      "image/png": "[encoded data removed]",
      "text/plain": [
       "<matplotlib.figure.Figure at 0x5c6a5d0>"
      ]
     },
     "metadata": {},
     "output_type": "display_data"
    },
    {
     "name": "stdout",
     "output_type": "stream",
     "text": [
      "0 -- 0   409\n",
      "0 -- 1   209\n",
      "0 -- 2   194\n",
      "0 -- 3   194\n",
      "0 -- 4   222\n",
      "0 -- 5   215\n",
      "0 -- 6   205\n",
      "0 -- 7   190\n",
      "0 -- 8   204\n",
      "0 -- 9   205\n",
      "0 -- 10   200\n",
      "0 -- 11   202\n",
      "0 -- 12   197\n",
      "0 -- 13   203\n",
      "0 -- 14   203\n",
      "0 -- 15   195\n",
      "0 -- 16   208\n",
      "0 -- 17   198\n",
      "0 -- 18   199\n",
      "0 -- 19   204\n",
      "0 -- 20   201\n",
      "0 -- 21   203\n",
      "0 -- 22   197\n",
      "0 -- 23   203\n",
      "0 -- 24   197\n",
      "0 -- 25   206\n",
      "0 -- 26   192\n",
      "0 -- 27   210\n",
      "0 -- 28   206\n",
      "0 -- 29   202\n",
      "0 -- 30   199\n",
      "0 -- 31   208\n",
      "0 -- 32   196\n",
      "0 -- 33   204\n",
      "0 -- 34   207\n",
      "0 -- 35   194\n",
      "0 -- 36   195\n",
      "0 -- 37   181\n",
      "0 -- 38   187\n",
      "0 -- 39   211\n",
      "0 -- 40   206\n",
      "0 -- 41   213\n",
      "0 -- 42   189\n",
      "0 -- 43   197\n",
      "0 -- 44   197\n",
      "0 -- 45   206\n",
      "0 -- 46   207\n",
      "0 -- 47   207\n",
      "0 -- 48   219\n",
      "0 -- 49   204\n",
      "0 -- 50   205\n",
      "0 -- 51   201\n",
      "0 -- 52   224\n",
      "0 -- 53   201\n",
      "0 -- 54   211\n",
      "0 -- 55   208\n",
      "0 -- 56   210\n",
      "0 -- 57   206\n",
      "0 -- 58   192\n",
      "0 -- 59   189\n",
      "0 -- 60   230\n",
      "0 -- 61   199\n",
      "0 -- 62   201\n",
      "0 -- 63   182\n",
      "0 -- 64   215\n",
      "0 -- 65   207\n",
      "0 -- 66   204\n",
      "0 -- 67   188\n",
      "0 -- 68   189\n",
      "0 -- 69   203\n",
      "0 -- 70   206\n",
      "0 -- 71   202\n",
      "0 -- 72   203\n",
      "0 -- 73   193\n",
      "0 -- 74   198\n",
      "0 -- 75   192\n",
      "0 -- 76   200\n",
      "0 -- 77   211\n",
      "0 -- 78   204\n",
      "0 -- 79   204\n",
      "0 -- 80   206\n",
      "0 -- 81   209\n",
      "0 -- 82   208\n",
      "0 -- 83   205\n",
      "0 -- 84   207\n",
      "0 -- 85   202\n",
      "0 -- 86   224\n",
      "0 -- 87   204\n",
      "0 -- 88   226\n",
      "0 -- 89   198\n",
      "0 -- 90   210\n",
      "0 -- 91   196\n",
      "0 -- 92   215\n",
      "0 -- 93   221\n",
      "0 -- 94   216\n",
      "0 -- 95   212\n",
      "0 -- 96   205\n",
      "0 -- 97   215\n",
      "0 -- 98   190\n",
      "0 -- 99   193\n"
     ]
    }
   ],
   "source": [
    "#d şıkkı versiyon 2\n",
    "a=my_create_m()\n",
    "benzerlik_max=0\n",
    "c=np.zeros((28,28))\n",
    "for i in range(100):\n",
    "    b=my_create_m()\n",
    "    if(get_similarity(a,b)>benzerlik_max):\n",
    "        benzerlik_max=get_similarity(a,b)\n",
    "        c=b\n",
    "        \n",
    "print(\"En Yüksek Benzerlik : \",benzerlik_max)\n",
    "plt.imshow(a,interpolation='nearest',cmap='gray')\n",
    "plt.show()\n",
    "plt.imshow(c,interpolation='nearest',cmap='gray')\n",
    "plt.show()\n",
    "    \n",
    "get_similarity_for_100_characters()\n",
    "    "
   ]
  },
  {
   "cell_type": "code",
   "execution_count": null,
   "metadata": {
    "collapsed": true
   },
   "outputs": [],
   "source": []
  },
  {
   "cell_type": "code",
   "execution_count": null,
   "metadata": {
    "collapsed": true
   },
   "outputs": [],
   "source": []
  }
 ],
 "metadata": {
  "kernelspec": {
   "display_name": "Python [default]",
   "language": "python",
   "name": "python3"
  },
  "language_info": {
   "codemirror_mode": {
    "name": "ipython",
    "version": 3
   },
   "file_extension": ".py",
   "mimetype": "text/x-python",
   "name": "python",
   "nbconvert_exporter": "python",
   "pygments_lexer": "ipython3",
   "version": "3.5.2"
  }
 },
 "nbformat": 4,
 "nbformat_minor": 1
}
